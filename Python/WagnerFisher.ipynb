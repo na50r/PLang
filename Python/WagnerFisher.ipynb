{
 "cells": [
  {
   "cell_type": "markdown",
   "metadata": {},
   "source": [
    "* Mildly (Mostly) inspired by b001's video Spell Checkers (https://www.youtube.com/watch?v=d-Eq6x1yssU)"
   ]
  },
  {
   "cell_type": "code",
   "execution_count": 1,
   "metadata": {},
   "outputs": [],
   "source": [
    "#b001's code \n",
    "def wagner_fischer(s1, s2):\n",
    "    len_s1, len_s2 = len(s1), len(s2)\n",
    "    #Ensures that len(s2) > len(s1)\n",
    "    if len_s1 > len_s2:\n",
    "        s1, s2 = s2, s1\n",
    "        len_s1, len_s2 = len_s2, len_s1\n",
    "\n",
    "    current_row = range(len_s1 + 1) #Range instance, equiv to list [0, 1, 2, 3, 4, 5]\n",
    "    for i in range(1, len_s2 + 1):\n",
    "        previous_row, current_row = current_row, [i] + [0] * len_s1\n",
    "        for j in range(1, len_s1 + 1):\n",
    "            add, delete, change = previous_row[j] + 1, current_row[j-1] + 1, previous_row[j-1]\n",
    "            if s1[j-1] != s2[i-1]:\n",
    "                change += 1\n",
    "            current_row[j] = min(add, delete, change)\n",
    "\n",
    "    return current_row[len_s1]"
   ]
  },
  {
   "cell_type": "code",
   "execution_count": 3,
   "metadata": {},
   "outputs": [
    {
     "data": {
      "text/plain": [
       "1"
      ]
     },
     "execution_count": 3,
     "metadata": {},
     "output_type": "execute_result"
    }
   ],
   "source": [
    "wagner_fischer(\"Jason\", \"Mason\")"
   ]
  },
  {
   "cell_type": "code",
   "execution_count": 4,
   "metadata": {},
   "outputs": [
    {
     "name": "stdout",
     "output_type": "stream",
     "text": [
      "range(1, 6)\n"
     ]
    }
   ],
   "source": [
    "test = range(1, 6)\n",
    "test_prev, test = test, [1]+[0]*5"
   ]
  }
 ],
 "metadata": {
  "kernelspec": {
   "display_name": "Python 3",
   "language": "python",
   "name": "python3"
  },
  "language_info": {
   "codemirror_mode": {
    "name": "ipython",
    "version": 3
   },
   "file_extension": ".py",
   "mimetype": "text/x-python",
   "name": "python",
   "nbconvert_exporter": "python",
   "pygments_lexer": "ipython3",
   "version": "3.11.1"
  }
 },
 "nbformat": 4,
 "nbformat_minor": 2
}
