{
 "cells": [
  {
   "cell_type": "code",
   "execution_count": 61,
   "metadata": {},
   "outputs": [
    {
     "name": "stdout",
     "output_type": "stream",
     "text": [
      "Key: ['Anime I have watched in 1995\\n', 'Anime I have watched in 1998\\n', 'Anime I watched in 2001\\n', 'Anime I watched in 2002\\n', 'Anime I watched in 2003\\n', 'Anime I watched in 2004\\n', 'Anime I watched in 2005\\n', 'Anime I watched in 2006\\n', 'Anime I watched in 2007\\n', 'Anime I watched in 2008\\n', 'Anime I watched in 2009\\n', 'Anime I watched in 2010\\n', 'Anime I watched in 2011\\n', 'Anime I watched in 2012\\n', 'Anime I watched in 2013\\n', 'Anime I watched in 2014\\n', 'Anime I watched in 2015\\n', 'Anime I watched in 2016\\n', 'Anime I watched in 2017\\n', 'Anime I watched in 2018\\n', 'Anime I watched in 2019\\n', 'Anime I watched in 2020\\n', 'Anime I watched in 2021\\n', 'Anime I watched in 2022\\n', 'Anime I watched in 2023\\n', 'Anime I watched in 2024\\n', 'Anime End\\n']\n"
     ]
    }
   ],
   "source": [
    "# Open the file and read lines\n",
    "with open(\"DataAnime.txt\", 'r') as f:\n",
    "    lines = f.readlines()\n",
    "\n",
    "# Create Keys\n",
    "keys = [key for key in lines if key.startswith(\"Anime\")]\n",
    "\n",
    "print(\"Key:\", keys)\n"
   ]
  },
  {
   "cell_type": "code",
   "execution_count": 46,
   "metadata": {},
   "outputs": [
    {
     "name": "stdout",
     "output_type": "stream",
     "text": [
      "[0, 3]\n"
     ]
    }
   ],
   "source": [
    "#Test\n",
    "def find_indices(lst, substring):\n",
    "    indices = []\n",
    "    for i, item in enumerate(lst):\n",
    "        if substring in item:\n",
    "            indices.append(i)\n",
    "    return indices\n",
    "\n",
    "\n",
    "# Test\n",
    "list1 = [\"Jason\", \"Madison\", \"Kelly\", \"Jason\"]\n",
    "result = find_indices(list1, \"Jas\")\n",
    "print(result)"
   ]
  },
  {
   "cell_type": "code",
   "execution_count": 71,
   "metadata": {},
   "outputs": [
    {
     "name": "stdout",
     "output_type": "stream",
     "text": [
      "['Anime I have watched in 1995\\n', 'Neon Genesis Evangelion (Shinji Ikari becomes god and giant robots, Kuudere and Tsundere)\\n', 'Anime I have watched in 1998\\n', 'Serial Experiments Lain (a portrayal of internet, which is kinda cool to think about compared to today)\\n', 'Anime I watched in 2001\\n', 'Spring\\n', 'Digimon Tamers (Digimon trainers with fusions and cards)\\n', 'Anime I watched in 2002\\n', 'Spring\\n', 'Chobits (robo romance og)\\n', 'Anime I watched in 2003\\n', '…\\n', 'Anime I watched in 2004\\n', 'Spring\\n', 'Gantz (Black skin suits and a ball which commands)\\n', 'Summer\\n', 'Gantz 2\\n', 'Elfen Lied (Lucy destroy and kills everyone)\\n', 'Anime I watched in 2005\\n', 'Winter\\n', 'A Megami-san\\n', 'Air (confusing but he became a crow?)\\n', 'Fall \\n', 'Lamune (I read the visual novel)\\n', 'Anime I watched in 2006\\n', 'Winter\\n', 'Fate/Stay Night (they tried to mix some routes)\\n', 'Hanbun no Tsuki ga Noboru Sora (aww… terminal illness my romance friend)\\n', 'Spring\\n', 'Ahh Megami-san (I got a goddess girlfriend)\\n', 'Haruhi Suzumiya (I’m a high school goddess)\\n', 'Fall\\n', 'Code Geass (Lelouch...yeahh)\\n', 'Hell Girl (modern death note)\\n', 'Death Note\\n', 'Anime I watched in 2007\\n', 'Spring\\n', 'Lucky Star\\n', 'Romeo x Juliet (more or less, it was also kinda sci-fi)\\n', 'Gurren Lagann (A drill which pierces the heavens)\\n', 'Fall\\n', 'Clannad (pg 6)\\n', 'ef: Tale of Memories (aww, three love stories)\\n', 'Anime I watched in 2008\\n', 'Winter\\n', 'H20: Footprints in the Sand (Oh dam, the protagonist is blind and stop bullying that girl because of her parents\\n', 'Spice and Wolf (A wolf girl and economics)\\n', 'Rosario to Vampire (Awful art but guy who attends a monster school and gets the girls, including an op vampire)\\n', 'Spring\\n', 'Code Geass 2 (They just ripped the first ep from Season 1, didn’t they?)\\n', 'Fall\\n', 'Chaos; Head. (hell yeah, that’s my boi takumi)\\n', 'Clannad After Story (I’m not crying.. shut up)\\n', 'ef: A Tale of Melodies (these tears are from Clannad, shut up, at least more happier end)\\n', 'Kannagi (wooden statue become waifu)\\n', 'Anime I watched in 2009\\n', 'Winter\\n', 'Akikan (tin cans become waifus)\\n', 'Spring\\n', 'Hatsukoi Limited (first love, doki doki)\\n', 'Pandora Hearts (Self sacrifice is awesome)\\n', 'Summer\\n', 'Bakemonogatari (Senjougahra)\\n', 'Spice and Wolf 2 (my head hurts and where is volume 4?)\\n', 'Fall\\n', 'Kämpfer (almost hentai but not)\\n', 'Nyan Koi (I can transform into a cat and people like me more)\\n', 'Sora no Otoshimono\\n', 'Anime I watched in 2010\\n', 'Winter\\n', 'Baka to Test (Idiots)\\n', 'Dance in the Vampire Bund (The protag is a werewolf with amnesia)\\n', 'Katanagatari (swords, yeah… but heroine dies at the end)\\n', 'Spring\\n', 'Angel Beats (We’re dead but still go to school)\\n', 'Ushiro no Daimaou (I will be the demon lord and I actually became the demon lord. F_ck you time traverler)\\n', 'Mayoi Neko Overrun! (so cute… the ping pong scene was from here btw)\\n', 'Rainbow (We’re in jail guys… so manly)\\n', 'Yojouhan Shinwa Taikei (literally every episode is more or less the same and you cheer for the guy to get the girl)\\n', 'Summer\\n', 'Amgami SS (Tachibana had a lonely Christmas lol but fear not, he gets girls later)\\n', 'High School of the Dead (Sex and Zombies)\\n', 'Ookami-san to Shichinin no Nakama-tachi (Hentai protag gets the gir- wait what?)\\n', 'Seitokai Yakuindomo (pervy jokes the animation)\\n', 'Fall\\n', 'Bakuman (Manga and romance)\\n', 'Fortune Arterial: Akai Yakusoku (Ah… blonde girl wants his blood)\\n', 'The World God Only Knows (visual novels but irl)\\n', 'Oreimo (A good little sister anime)\\n', 'Yosuga no Sora (Ha incest!.. nah it was okay)\\n', 'Anime I watched in 2011\\n', 'Winter\\n', 'Fractale (Old school anime about some girl, AI girl and guy with neglecting parents which use robots)\\n', 'Kore wa Zombie Desu Ka (Zombie, Magical Girl and Vampire guy)\\n', 'Madoka Magica (Insanity)\\n', 'Spring\\n', 'Anohana (My old, dead childhood friend comes back, reunites me with my friends and makes me cry.)\\n', 'C-Money (Money is power, literally. The summon monsters with it and such)\\n', 'Denpa Onna to Seishun Otoko (shaft anime with blue haired girl and etc.)\\n', 'Hidan no Aria (make my d!ck go high and I become a super man)\\n', 'Steins; Gate (time travel, sunavabitch)\\n', 'Hoshizora e Kakaru Hashi (visual novel but as an anime and guy chooses one girl, finally)\\n', 'Summer\\n', 'Baka to Test (Idiots which still are cool. Love triangle and thirsty girl for best friend-kun)\\n', 'Mayo Chiki (I have fear of women but they come at me)\\n', 'Fall\\n', 'Haganai (I entered a friend club and not a damn girls become my harem club)\\n', 'Ben-To (Shounen anime to get cheap food)\\n', 'Guilty Crown (So good music but second season kinda sucked)\\n', 'Fate/Zero (first 4 ep were pure talk and planning)\\n', 'Mirai Nikki (Yuno Gasai was born)\\n', 'Anime I watched in 2012\\n', 'Winter\\n', 'Ano Natsu de Matteru (Alien girl with glasses and guy who gets saved by her, also has glasses)\\n', 'Amagami SS+ Plus (Continuation of Arcs)\\n', 'Another (cool horror movie with romance)\\n', 'Black Rock Shooter (Action and School girl drama)\\n', 'High School DxD (apparently, blue balls the anime)\\n', 'Nisemonogatari\\n', 'Papa no Iukoto wo Kikinasai! (college/high school student becomes a father)\\n', 'Spring\\n', 'Accel World (fat guy gets wings and the girls)\\n', 'Acchi Kocchi (Cute the anime)\\n', 'Fate Zero Second Season (Kiritsugu Emiya becomes the protagonist)\\n', 'Haiyore! Nyaruko-san (thirsty girl hits bad guys with bats)\\n', 'Hyouka (I’m f_cking curious)\\n', 'Sankarea (read the manga for more)\\n', 'Summer\\n', 'Campione (Kill gods and get the girls)\\n', 'Dakara Boku wa, H ga Dekinai (increase my power with your lust, human)\\n', 'Hagure Yuusha no Estetica (I’m a super buff, badass protagonist, f_ck yeah in a magical sword school anime)\\n', 'Kokoro Connect (Some alien is f_cking with us)\\n', 'Oda Nobuna no Yabou (Japanese history with anime girls)\\n', 'Sword Art Online (ep 1 to 14 are worth it)\\n', 'Fall\\n', 'Btoom (Survival island with bombs)\\n', 'Chuunibyo (Chuuni girl and former chuuni guy have love comedy)\\n', 'K (so good animations)\\n', 'Little Busters (solve the mental problems of girls in a Key anime)\\n', 'Robotic; Notes (robots in a steins gate/chaos head plotline)\\n', 'Sakurasou no Pet no Kanojo (so f_cking dramatic but so good)\\n', 'Onii-chan Dakedo Ai Sae Areba Kankeinai yo ne! (I’m the true sister but then the others came)\\n', 'Zetsuen no Tempest (Seriously, the dead sister was the best character)\\n', 'Anime I watched in 2013\\n', 'Winter\\n', 'Boku wa Tomodachi ga Sukunai Next (Second Season of Haganai)\\n', 'Ore no Kanojo to Osananajimi ga Shuraba (He chose white-haired fake but still harem)\\n', 'Spring\\n', 'Date A Live (Guy dates interdimensional girls)\\n', 'Dansai Bunri no Crime Edge (Neet detective girl)\\n', 'Devil Survivor 2 (I think it was similar to Persona or Pokemon…)\\n', 'Haiyore! Nyaruko-san W (Thirsty heroines part two)\\n', 'The Devil is a Part-Timer (The devil works for McDonalds)\\n', 'Hentai Ouji to Warawanai Neko (fulfilling but also unfulfilling romance ending… still funny)\\n', 'Oreimo 2 (F_ck you Kyousuke, you should have chosen your girlfriend and not your damn sister!)\\n', 'Photokano /Amagami SS featuring photos.)\\n', 'Attack on Titan\\n', 'Oregariu (Anti-social protagonist experiences more or less a romance comedy school life)\\n', 'Nazo no Kanojo\\n', 'Summer\\n', 'Blood Lad (Otaku vampire falls in love with a now dead human)\\n', 'The World God Only Knows 3 (bittersweet ending)\\n', 'Monogatari Series: Second Season\\n', 'Watamote (realistic life)\\n', 'Fall\\n', 'Golden Time (I have amnesia and thus love two girls)\\n', 'Log Horizon (Sao but still better)\\n', 'Nagi no Asakura (F_ck are you dramatic(\\n', 'Little Busters Refrain (second season with plot reveals)\\n', 'Kyorukai no Kanata (glasses girl and immortal guy)\\n', 'Machine Doll (typical robo academy but protag has robo girl)\\n', 'Outbreak Company (Otaku in Isekai world)\\n', 'White Album 2 (I choose the other girl in the last episode because I’m unsure as f_ck)\\n', 'Ore no Nounai Sentakushi ga, Gakuen Love Comedy wo Zenryoku de Jama Shiteiru (the choices anime)\\n', \"I Couldn't Become a Hero, So I Reluctantly Decided to Get a Job (Devil is a Part-Timer but switched genders and less heroe, and wall markt instead of McDonalds)\\n\", 'Anime I watched in 2014\\n', 'Winter\\n', 'Chuunibyou Demo koi ga Shitai! Ren (second season)\\n', 'D-Frag (delinquent protagonist and bully girls)\\n', 'Mahou Sensou (f_ck you light novel trailer)\\n', 'Noragami (lazy god gets gud)\\n', 'Nisekoi (keyholes and keys)\\n', 'Nourin (idol visits farm school but protag can’t choose the right girl, why?)\\n', 'Seitokai Yakuindomo＊ (pervy jokes 2)\\n', 'Witch Craft Works (fire, breasts and one guy)\\n', 'Saikin, Imouto no Yousu ga Chotto Okashiinda ga. (be honest or the magic belt makes you cum, little sister)\\n', 'Onee-chan ga Kita (blonde shota and his black haired onee-san)\\n', 'Spring\\n', 'Akuma no Riddle (blue   assassin protects clumsy bee queen girl, the target of 11 other assassins)\\n', 'Black Bullet (Attack on Titan but modern and with power lolis)\\n', 'Bokura wa Minna Kawaisou (short haired guy and girl fall in love in same dorm)\\n', 'Gokukoku no Brynhildr (edgy romance show with memory guy protag)\\n', 'One Week Friends (girl forgets you after one week, you’re boring)\\n', 'Kanojo ga Flag wo Oraretara (kinda depressive guy has the ability to see and trigger flags, especially girls)\\n', 'Mahouka Koukou no Rettousei (magic school with op brother and sister)\\n', 'Mekakucity Actors (y’know vocaloid? Yeah that got an anime)\\n', 'No Game No Life (seriously, bro and sis rule the world of games)\\n', 'Nanana no Maizoukin (some girl hid some treasures and is now a ghost in your apartment, find her treasures)\\n', 'Summer\\n', 'Akame ga Kill (everyone dies)\\n', 'Aldnoah Zero (Emotional break down and emotionless guy)\\n', 'Hanamonogatari\\n', 'Jinsei\\n', 'Sword art Online 2\\n', 'Zankyou no Terror\\n', 'Tokyo Ghoul\\n', 'Rail Wars\\n', 'Seirei Tsukai no Blade Dance (magical sword school anime)\\n', 'Fall\\n', 'Amagami Brilliant Park (beautiful animations but no romance… sigh)\\n', 'Grisaia no Kajitsu (cool guy and some mentally broken girls he has to fix)\\n', 'Parasyte (My right hand is an alien)\\n', 'Shigatsu wa Kimi no Uso (barely remember but sad as f_ck)\\n', 'Tsukimonogatari\\n', 'Anime I watched in 2015\\n', 'Winter\\n', 'Assassination Classroom (yellow tentacle teacher wants to die)\\n', 'Absolute Duo (romance, double sword, and shield)\\n', 'Death Parade (die with style)\\n', 'Isuca (Blonde girl with arrows)\\n', 'Saenai Heroine no Sodatekata (glasses guy wants to create a dating sim but everyone has a crush on him)\\n', 'Tokyo Ghoul √A (Second season? best friend dies)\\n', 'Spring\\n', 'Danmachi (invention of Hestia and her ribbons)\\n', 'Fate Stay Night Unlimited Blade Works 2 (Yeah)\\n', 'Grisaria no Rakuen (second or third season of Grisaria)\\n', 'Nagato Yuki-chan no Shoushitsu (y’know Haruhi Suzumiya? That but different)\\n', 'Nisekoi: (Second season)\\n', 'Plastic Memoires (robo-romance)\\n', 'Owari no Seraph (gay vampire  shounen)\\n', 'Yamada-kun to 7-nin no Majo (Delinquent and seven romance witches)\\n', 'Oregairu Zoku (Second season but with different art style)\\n', 'I can’t understand what my Husband is saying 2 (ignore the pregnancy cliffhanger)\\n', \"Kyoukai no Kanata Movie: I'LL BE HERE - Mirai-hen (movie, second part)\\n\", 'Summer \\n', 'Charlotte (abilities)\\n', 'God Eater (kill those wannabe gods with giant swords)\\n', 'Himouto Umaru-chan (lazy ass model student sister)\\n', 'Jitsu wa Watashi wa (Green haired vampire but also interesting art style, romance)\\n', 'Kuusen Madoushi Kouhosei no Kyoukan (some magical school anime with three problem girls)\\n', 'Monster Musume (monster girls, yay)\\n', 'Overlord (op skeleton ruler, yay)\\n', 'Fall\\n', 'One Punch Man\\n', 'Radukai Kishi (weakest becomes strongest)\\n', 'Sakurako-san no Ashimoto ni wa Shitai ga Umatteiru (I wanted romance but I get skull fetish)\\n', 'Taimadou Gakuen 35 Shiken Shoutai (sci-fi, witch hunt thingy)\\n', 'Owarimonogatari\\n', 'Shoumin Sample (normal dude in rich girl school)\\n', 'Gakusen Toshi Asterisk (magical school sword anime)\\n', 'Anime I watched in 2016\\n', 'Winter\\n', 'Ajin (Death follows revival and black monsters)\\n', 'Assassination Classroom 2  (The finale)\\n', 'Ao no Kanata Four Rythm (Flying shoes and romance, a little)\\n', 'Erased (time travel and childhood)\\n', 'Dagashi Kashi (sweets)\\n', 'Hai to Gensou no Grimigar (isekai but without memories)\\n', 'Konosuba (Isekai but realistic comedic)\\n', 'Musaigen no Phantom World  (world with phantoms aka monsters)\\n', 'Saiijaku Muhai no Bahamut (white haired shota gets girls with his mech)\\n', 'Shoujo-Tachi wa Kouya wo Mezasu (girl wants to make a visual novel)\\n', 'Phantasy Star Online 2 (btw, it’s canon to the game)\\n', 'Spring\\n', 'My Hero Academia (Shounen but cool)\\n', 'Kiznaiver (Pain sharing)\\n', 'Netoge no Yome wa Onnanoko ja Nai to Omotta? (lonely mmo player’s dream of love)\\n', 'Sakamoto desu ga? (being cool but also cooler, hald drop)\\n', 'Tanaka-kun wa Itsumo Kedaruge (lazy)\\n', 'Nijiro Days (four boys and their lives)\\n', 'Re;Zero (Isekai, death and respawn)\\n', 'Summer\\n', 'Re;Life (back to the old days in high school, with 29)\\n', 'Rewrite (rewrite the anime plot because the vn was better)\\n', 'Mob Psycho 100 (one punch man but as a teenager)\\n', 'Masou Gakuen HxH (enhancing girls with fondling)\\n', 'Amaama to Inazuma (Usagi drop but with food)\\n', 'Orange (time travel in order to save present romance drama)\\n', 'Fall\\n', '3 Gatsu no Lion (Shogi but with Seinen)\\n', 'Ajin 2 \\n', 'Flip Flappers (Everything goes crazy)\\n', 'Kubikiri Cycle: The Blue Savant and the Nonsense User (That shaft anime which took months\\n', 'Anime I watched in 2017\\n', 'Winter \\n', 'Akiba’s Trip - The Animation (Stripping and fighting)\\n', 'Chaos; Child (Chaos Head 2.0)\\n', 'Demi-chan wa Kataritai (Monster Musume but illegal)\\n', 'Hand Shakers (Shake my hand and give me lovely powers)\\n', 'Dragon Maid (Well, yeah… female protagonist though)\\n', 'Kuzu no Honkai (Why the f_ck is everyone cheating on the other?)\\n', 'KonoSuba 2 (Explosion!! and Lalatina!)\\n', 'Masamune-kun no Revenge (fat guy is now thing and tries to make bully fall for him)\\n', 'Rewrite 2 (The better adaptation, Moon and Terra)\\n', '3-Gatsu no Lion (Shogi but also Seinen)\\n', 'Kizumonogatari III (Vampire killing)\\n', 'SAO Ordinal Scale (Oh now he does irl sports?)\\n', 'Seiren (I think it was something like Amagami SS with different girls)\\n', 'Spring\\n', 'Alice to Zoruoko (Alice in Wonderland but with old dude as well)\\n', 'Boku no Hero Academia 2 (Tournament Arc iirc)\\n', 'Busou Shoujo Machiavalinisim (Every girl wants to kill him but he beats them first)\\n', 'Eromanga-Sensei (A genuinely good anime, kek)\\n', 'Re; Creators (John, they broke the fourth wall, f_ck!)\\n', 'The King’s Avatar (Chinese SAO but better)\\n', 'Sagrada Reset (Charlotte but better)\\n', 'Akashic Records of Bastard Magic Instructor (Had a terrible ending but and the school uniform is a joke)\\n', 'WorldEnd: What do you do at the end of the world? Are you busy? Will you save us? (op mc and more op fairies)\\n', 'Grimoire of Zero (I thought this was Re;Zero but it has a white tiger and a girl)\\n', 'Mayoiga (A series about a bus trip and a cursed village, actually, the bus trip was a group suicide, right?)\\n', 'Summer\\n', 'Hajimete no Gal (Gals aren’t that bad… apparently the ENG dub was better)\\n', 'Gamers! (Misunderstanding the anime)\\n', 'Isekai wa Smartphone (He has is Smartphone in Another world)\\n', 'Kakegurui (Gambling and Orgasm)\\n', 'Koi to Uso (I love you but have to marry her. Let’s take both!)\\n', 'Made in Abyss (Loli, robot guy and edgy plot)\\n', 'Tenshi no 3P (Loli and music)\\n', 'Classroom of the Elite (Orgegairu but cooler?)\\n', 'Fall\\n', 'A Sister is All You Need (That f_cking cliffhanger ending! The protag has the fetish btw)\\n', 'Himouto Umaru-chan R (Yay, a sequl of hamster girl)\\n', 'Ancient Magus Bride (Beautiful anime which redefined the fantasy genre of anime, back to school I guess)\\n', 'Recovery of an MMO-Junkie (MMOs are so nice)\\n', 'Ousama Game: The Animation (edgy King’s game)\\n', 'Girls Last Tour (Apolcalyptic world and two girls with tank and gun)\\n', 'Kino no Tabi: Beautiful World (Every episode is about a new city and some kind of new morale)\\n', 'Just Because! (yay, some sweet romance after a guy entered the town)\\n', 'Anime I watched in 2018\\n', 'Winter\\n', 'Darling in the Franxx (Hehe… good anime until the alines? Evangelion clone I guess?)\\n', 'Death March to the Parallel World Rhapsody (Game dev in another world and being a boss there)\\n', 'Overlord II (Lizards?)\\n', 'Ryuuou no Oshigoto! (lolis and Shogi)\\n', 'Violet Evergarden (Nice animations and the VA from 2B)\\n', 'Spring\\n', '3D Kanojo (Yeah! I read the manga. So sweet)\\n', 'Boku no Hero Academia 3 (Become better arc)\\n', 'Steins Gate 0 (Depressive Okabe)\\n', 'Shiyan Pin Jiating: Frankenstein Family (Family with demi-humans and a genius)\\n', 'Summer\\n', 'How Not to Summon a Demon Lord (Perfect anime, duo harem)\\n', 'Overlord III (Become the over f_cking lord!)\\n', 'Fall\\n', 'Conception (making girls from another world pregnant)\\n', 'Goblin Slayer (No one has names)\\n', 'My Sister My Writer (Little sister anime with bad animation)\\n', 'Rascal Does Not Dream of Bunny Girl Senpai (not little sister anime with better little sister, and romance/drama)\\n', 'Sword Art Online: Alicization (Fancy SAO, they used Ordinal Scale animation)\\n', 'That Time I Got Reincarnated as a Slime (Little blue ball being OP)\\n', 'Anime I watched in 2019\\n', 'Winter\\n', 'Shield Hero\\n', 'Spring\\n', 'One Punch Man S2\\n', 'Kenja no Mago (Dropped around the ending I guess?)\\n', 'Summer\\n', 'Danmachi S2\\n', 'Arifureta S1\\n', 'Mom Isekai \\n', 'Fall\\n', 'Beastars\\n', 'SAO Alicization, War of Underworld\\n', 'Azur Lane\\n', 'Phantasy Star Online 2: Episode Oracle\\n', 'Anime I watched in 2020\\n', 'Winter\\n', 'Bofuri (Female Shield Hero, VRMMO)\\n', 'Spring\\n', '…\\n', 'Summer\\n', 'ReZero S2\\n', 'Misfits of Demon Academy S2 (Anos Voldiguard = Gige Chad)\\n', 'Fall\\n', 'Tonikaku Kawaii S2\\n', 'Danmachi S3\\n', 'Anime I watched in 2021\\n', 'Winter\\n', 'Horimiya\\n', 'Mushoku Tensei\\n', 'ReZero S2, Part 2\\n', 'Spring\\n', '…\\n', 'Summer\\n', 'Bokutachi no Remake\\n', 'Shinigami Bocchan to Kuro Maid\\n', 'Fall\\n', 'Mushoku Tensei S1, Part 2\\n', 'Platinum End\\n', 'Shin no Nakama… (Red and Blonde Girl Happily Ever After) S1\\n', 'Anime I watched in 2022\\n', 'Winter\\n', '…\\n', 'Spring \\n', 'Shield Hero S2\\n', 'My Girlfriend is not just Cute\\n', 'Otomege Sekai wa Mob\\n', 'Shijou Saikyou no Daimaou,\\n', 'Yuusha, Yamemasu\\n', 'Summer\\n', 'Overlord S4\\n', 'Black Summoner\\n', 'Fall\\n', 'Eminence in the Shadow S1\\n', 'Bocchi the Rock\\n', 'Arknights S1\\n', 'Anime I watched in 2023\\n', 'Winter\\n', 'NieR:Automata Ver 1.1a\\n', 'Ice Dude and His Cool Female Colleague\\n', 'Kubo-san won’t let me be a Mob\\n', 'Isekai Nonbiri Nouka\\n', 'I was kicked out of the demon lord’s army, 30 year old guy\\n', 'Spring\\n', 'Mashle\\n', 'Boku no Kokoro no Yabai Yatsu\\n', 'I got a cheat Skill in Another World and Became Unrivalled in The Real World\\n', 'Summer\\n', 'Mushoku Tensei 2 (ED Arc)\\n', 'My Happy Marriage\\n', 'Jitsu was Ore, Saikyou Deshita?\\n', 'Fall\\n', 'Eminence of Shadow S2\\n', 'Goblin Slayer S2\\n', 'Shield Hero S3\\n', 'Arknights S2\\n', 'Anime I watched in 2024\\n', 'Winter\\n', 'The Dangers of My Heart S2\\n', 'Shin no nakama … S2 (Ruti Arc)\\n', 'Anime End\\n']\n",
      "[0, 2, 4, 7, 10, 12, 18, 24, 35, 43, 55, 68, 90, 111, 143, 175, 214, 250, 283, 328, 350, 365, 376, 390, 406, 426, 430]\n",
      "['Neon Genesis Evangelion (Shinji Ikari becomes god and giant robots, Kuudere and Tsundere)\\n']\n",
      "['Serial Experiments Lain (a portrayal of internet, which is kinda cool to think about compared to today)\\n']\n",
      "['Winter\\n', 'The Dangers of My Heart S2\\n', 'Shin no nakama … S2 (Ruti Arc)\\n']\n"
     ]
    }
   ],
   "source": [
    "lines = [ln for ln in lines if ln != \"\" and ln != \"\\n\"]\n",
    "print(lines)\n",
    "title_idx = find_indices(lines, \"Anime\")\n",
    "print(title_idx)\n",
    "print(lines[1:2])\n",
    "print(lines[3:4])\n",
    "print(lines[427:430])\n"
   ]
  },
  {
   "cell_type": "code",
   "execution_count": 77,
   "metadata": {},
   "outputs": [
    {
     "name": "stdout",
     "output_type": "stream",
     "text": [
      "[(1, 2), (3, 4), (5, 7), (8, 10), (11, 12), (13, 18), (19, 24), (25, 35), (36, 43), (44, 55), (56, 68), (69, 90), (91, 111), (112, 143), (144, 175), (176, 214), (215, 250), (251, 283), (284, 328), (329, 350), (351, 365), (366, 376), (377, 390), (391, 406), (407, 426), (427, 430)]\n",
      "26\n",
      "26\n"
     ]
    }
   ],
   "source": [
    "idx = []\n",
    "for i in range(len(title_idx)-1):\n",
    "    idx.append((title_idx[i]+1, title_idx[i+1]))\n",
    "print(idx)\n",
    "print(len(idx))\n",
    "print(len(keys)-1)"
   ]
  },
  {
   "cell_type": "code",
   "execution_count": 82,
   "metadata": {},
   "outputs": [
    {
     "name": "stdout",
     "output_type": "stream",
     "text": [
      "Anime I have watched in 1995\n",
      " (1, 2)\n",
      "Anime I have watched in 1998\n",
      " (3, 4)\n",
      "Anime I watched in 2001\n",
      " (5, 7)\n",
      "Anime I watched in 2002\n",
      " (8, 10)\n",
      "Anime I watched in 2003\n",
      " (11, 12)\n",
      "Anime I watched in 2004\n",
      " (13, 18)\n",
      "Anime I watched in 2005\n",
      " (19, 24)\n",
      "Anime I watched in 2006\n",
      " (25, 35)\n",
      "Anime I watched in 2007\n",
      " (36, 43)\n",
      "Anime I watched in 2008\n",
      " (44, 55)\n",
      "Anime I watched in 2009\n",
      " (56, 68)\n",
      "Anime I watched in 2010\n",
      " (69, 90)\n",
      "Anime I watched in 2011\n",
      " (91, 111)\n",
      "Anime I watched in 2012\n",
      " (112, 143)\n",
      "Anime I watched in 2013\n",
      " (144, 175)\n",
      "Anime I watched in 2014\n",
      " (176, 214)\n",
      "Anime I watched in 2015\n",
      " (215, 250)\n",
      "Anime I watched in 2016\n",
      " (251, 283)\n",
      "Anime I watched in 2017\n",
      " (284, 328)\n",
      "Anime I watched in 2018\n",
      " (329, 350)\n",
      "Anime I watched in 2019\n",
      " (351, 365)\n",
      "Anime I watched in 2020\n",
      " (366, 376)\n",
      "Anime I watched in 2021\n",
      " (377, 390)\n",
      "Anime I watched in 2022\n",
      " (391, 406)\n",
      "Anime I watched in 2023\n",
      " (407, 426)\n",
      "Anime I watched in 2024\n",
      " (427, 430)\n"
     ]
    }
   ],
   "source": [
    "kekw = zip(keys, idx)\n",
    "anime_dic = {}\n",
    "for k,v in kekw:\n",
    "    print(k, v)\n",
    "    anime_dic[k] = lines[v[0]:v[1]]"
   ]
  },
  {
   "cell_type": "code",
   "execution_count": 84,
   "metadata": {},
   "outputs": [
    {
     "name": "stdout",
     "output_type": "stream",
     "text": [
      "['Winter\\n', 'The Dangers of My Heart S2\\n', 'Shin no nakama … S2 (Ruti Arc)\\n']\n",
      "Anime I have watched in 1995\n",
      ": ['Neon Genesis Evangelion (Shinji Ikari becomes god and giant robots, Kuudere and Tsundere)\\n']\n",
      "Anime I have watched in 1998\n",
      ": ['Serial Experiments Lain (a portrayal of internet, which is kinda cool to think about compared to today)\\n']\n",
      "Anime I watched in 2001\n",
      ": ['Spring\\n', 'Digimon Tamers (Digimon trainers with fusions and cards)\\n']\n",
      "Anime I watched in 2002\n",
      ": ['Spring\\n', 'Chobits (robo romance og)\\n']\n",
      "Anime I watched in 2003\n",
      ": ['…\\n']\n",
      "Anime I watched in 2004\n",
      ": ['Spring\\n', 'Gantz (Black skin suits and a ball which commands)\\n', 'Summer\\n', 'Gantz 2\\n', 'Elfen Lied (Lucy destroy and kills everyone)\\n']\n",
      "Anime I watched in 2005\n",
      ": ['Winter\\n', 'A Megami-san\\n', 'Air (confusing but he became a crow?)\\n', 'Fall \\n', 'Lamune (I read the visual novel)\\n']\n",
      "Anime I watched in 2006\n",
      ": ['Winter\\n', 'Fate/Stay Night (they tried to mix some routes)\\n', 'Hanbun no Tsuki ga Noboru Sora (aww… terminal illness my romance friend)\\n', 'Spring\\n', 'Ahh Megami-san (I got a goddess girlfriend)\\n', 'Haruhi Suzumiya (I’m a high school goddess)\\n', 'Fall\\n', 'Code Geass (Lelouch...yeahh)\\n', 'Hell Girl (modern death note)\\n', 'Death Note\\n']\n",
      "Anime I watched in 2007\n",
      ": ['Spring\\n', 'Lucky Star\\n', 'Romeo x Juliet (more or less, it was also kinda sci-fi)\\n', 'Gurren Lagann (A drill which pierces the heavens)\\n', 'Fall\\n', 'Clannad (pg 6)\\n', 'ef: Tale of Memories (aww, three love stories)\\n']\n",
      "Anime I watched in 2008\n",
      ": ['Winter\\n', 'H20: Footprints in the Sand (Oh dam, the protagonist is blind and stop bullying that girl because of her parents\\n', 'Spice and Wolf (A wolf girl and economics)\\n', 'Rosario to Vampire (Awful art but guy who attends a monster school and gets the girls, including an op vampire)\\n', 'Spring\\n', 'Code Geass 2 (They just ripped the first ep from Season 1, didn’t they?)\\n', 'Fall\\n', 'Chaos; Head. (hell yeah, that’s my boi takumi)\\n', 'Clannad After Story (I’m not crying.. shut up)\\n', 'ef: A Tale of Melodies (these tears are from Clannad, shut up, at least more happier end)\\n', 'Kannagi (wooden statue become waifu)\\n']\n",
      "Anime I watched in 2009\n",
      ": ['Winter\\n', 'Akikan (tin cans become waifus)\\n', 'Spring\\n', 'Hatsukoi Limited (first love, doki doki)\\n', 'Pandora Hearts (Self sacrifice is awesome)\\n', 'Summer\\n', 'Bakemonogatari (Senjougahra)\\n', 'Spice and Wolf 2 (my head hurts and where is volume 4?)\\n', 'Fall\\n', 'Kämpfer (almost hentai but not)\\n', 'Nyan Koi (I can transform into a cat and people like me more)\\n', 'Sora no Otoshimono\\n']\n",
      "Anime I watched in 2010\n",
      ": ['Winter\\n', 'Baka to Test (Idiots)\\n', 'Dance in the Vampire Bund (The protag is a werewolf with amnesia)\\n', 'Katanagatari (swords, yeah… but heroine dies at the end)\\n', 'Spring\\n', 'Angel Beats (We’re dead but still go to school)\\n', 'Ushiro no Daimaou (I will be the demon lord and I actually became the demon lord. F_ck you time traverler)\\n', 'Mayoi Neko Overrun! (so cute… the ping pong scene was from here btw)\\n', 'Rainbow (We’re in jail guys… so manly)\\n', 'Yojouhan Shinwa Taikei (literally every episode is more or less the same and you cheer for the guy to get the girl)\\n', 'Summer\\n', 'Amgami SS (Tachibana had a lonely Christmas lol but fear not, he gets girls later)\\n', 'High School of the Dead (Sex and Zombies)\\n', 'Ookami-san to Shichinin no Nakama-tachi (Hentai protag gets the gir- wait what?)\\n', 'Seitokai Yakuindomo (pervy jokes the animation)\\n', 'Fall\\n', 'Bakuman (Manga and romance)\\n', 'Fortune Arterial: Akai Yakusoku (Ah… blonde girl wants his blood)\\n', 'The World God Only Knows (visual novels but irl)\\n', 'Oreimo (A good little sister anime)\\n', 'Yosuga no Sora (Ha incest!.. nah it was okay)\\n']\n",
      "Anime I watched in 2011\n",
      ": ['Winter\\n', 'Fractale (Old school anime about some girl, AI girl and guy with neglecting parents which use robots)\\n', 'Kore wa Zombie Desu Ka (Zombie, Magical Girl and Vampire guy)\\n', 'Madoka Magica (Insanity)\\n', 'Spring\\n', 'Anohana (My old, dead childhood friend comes back, reunites me with my friends and makes me cry.)\\n', 'C-Money (Money is power, literally. The summon monsters with it and such)\\n', 'Denpa Onna to Seishun Otoko (shaft anime with blue haired girl and etc.)\\n', 'Hidan no Aria (make my d!ck go high and I become a super man)\\n', 'Steins; Gate (time travel, sunavabitch)\\n', 'Hoshizora e Kakaru Hashi (visual novel but as an anime and guy chooses one girl, finally)\\n', 'Summer\\n', 'Baka to Test (Idiots which still are cool. Love triangle and thirsty girl for best friend-kun)\\n', 'Mayo Chiki (I have fear of women but they come at me)\\n', 'Fall\\n', 'Haganai (I entered a friend club and not a damn girls become my harem club)\\n', 'Ben-To (Shounen anime to get cheap food)\\n', 'Guilty Crown (So good music but second season kinda sucked)\\n', 'Fate/Zero (first 4 ep were pure talk and planning)\\n', 'Mirai Nikki (Yuno Gasai was born)\\n']\n",
      "Anime I watched in 2012\n",
      ": ['Winter\\n', 'Ano Natsu de Matteru (Alien girl with glasses and guy who gets saved by her, also has glasses)\\n', 'Amagami SS+ Plus (Continuation of Arcs)\\n', 'Another (cool horror movie with romance)\\n', 'Black Rock Shooter (Action and School girl drama)\\n', 'High School DxD (apparently, blue balls the anime)\\n', 'Nisemonogatari\\n', 'Papa no Iukoto wo Kikinasai! (college/high school student becomes a father)\\n', 'Spring\\n', 'Accel World (fat guy gets wings and the girls)\\n', 'Acchi Kocchi (Cute the anime)\\n', 'Fate Zero Second Season (Kiritsugu Emiya becomes the protagonist)\\n', 'Haiyore! Nyaruko-san (thirsty girl hits bad guys with bats)\\n', 'Hyouka (I’m f_cking curious)\\n', 'Sankarea (read the manga for more)\\n', 'Summer\\n', 'Campione (Kill gods and get the girls)\\n', 'Dakara Boku wa, H ga Dekinai (increase my power with your lust, human)\\n', 'Hagure Yuusha no Estetica (I’m a super buff, badass protagonist, f_ck yeah in a magical sword school anime)\\n', 'Kokoro Connect (Some alien is f_cking with us)\\n', 'Oda Nobuna no Yabou (Japanese history with anime girls)\\n', 'Sword Art Online (ep 1 to 14 are worth it)\\n', 'Fall\\n', 'Btoom (Survival island with bombs)\\n', 'Chuunibyo (Chuuni girl and former chuuni guy have love comedy)\\n', 'K (so good animations)\\n', 'Little Busters (solve the mental problems of girls in a Key anime)\\n', 'Robotic; Notes (robots in a steins gate/chaos head plotline)\\n', 'Sakurasou no Pet no Kanojo (so f_cking dramatic but so good)\\n', 'Onii-chan Dakedo Ai Sae Areba Kankeinai yo ne! (I’m the true sister but then the others came)\\n', 'Zetsuen no Tempest (Seriously, the dead sister was the best character)\\n']\n",
      "Anime I watched in 2013\n",
      ": ['Winter\\n', 'Boku wa Tomodachi ga Sukunai Next (Second Season of Haganai)\\n', 'Ore no Kanojo to Osananajimi ga Shuraba (He chose white-haired fake but still harem)\\n', 'Spring\\n', 'Date A Live (Guy dates interdimensional girls)\\n', 'Dansai Bunri no Crime Edge (Neet detective girl)\\n', 'Devil Survivor 2 (I think it was similar to Persona or Pokemon…)\\n', 'Haiyore! Nyaruko-san W (Thirsty heroines part two)\\n', 'The Devil is a Part-Timer (The devil works for McDonalds)\\n', 'Hentai Ouji to Warawanai Neko (fulfilling but also unfulfilling romance ending… still funny)\\n', 'Oreimo 2 (F_ck you Kyousuke, you should have chosen your girlfriend and not your damn sister!)\\n', 'Photokano /Amagami SS featuring photos.)\\n', 'Attack on Titan\\n', 'Oregariu (Anti-social protagonist experiences more or less a romance comedy school life)\\n', 'Nazo no Kanojo\\n', 'Summer\\n', 'Blood Lad (Otaku vampire falls in love with a now dead human)\\n', 'The World God Only Knows 3 (bittersweet ending)\\n', 'Monogatari Series: Second Season\\n', 'Watamote (realistic life)\\n', 'Fall\\n', 'Golden Time (I have amnesia and thus love two girls)\\n', 'Log Horizon (Sao but still better)\\n', 'Nagi no Asakura (F_ck are you dramatic(\\n', 'Little Busters Refrain (second season with plot reveals)\\n', 'Kyorukai no Kanata (glasses girl and immortal guy)\\n', 'Machine Doll (typical robo academy but protag has robo girl)\\n', 'Outbreak Company (Otaku in Isekai world)\\n', 'White Album 2 (I choose the other girl in the last episode because I’m unsure as f_ck)\\n', 'Ore no Nounai Sentakushi ga, Gakuen Love Comedy wo Zenryoku de Jama Shiteiru (the choices anime)\\n', \"I Couldn't Become a Hero, So I Reluctantly Decided to Get a Job (Devil is a Part-Timer but switched genders and less heroe, and wall markt instead of McDonalds)\\n\"]\n",
      "Anime I watched in 2014\n",
      ": ['Winter\\n', 'Chuunibyou Demo koi ga Shitai! Ren (second season)\\n', 'D-Frag (delinquent protagonist and bully girls)\\n', 'Mahou Sensou (f_ck you light novel trailer)\\n', 'Noragami (lazy god gets gud)\\n', 'Nisekoi (keyholes and keys)\\n', 'Nourin (idol visits farm school but protag can’t choose the right girl, why?)\\n', 'Seitokai Yakuindomo＊ (pervy jokes 2)\\n', 'Witch Craft Works (fire, breasts and one guy)\\n', 'Saikin, Imouto no Yousu ga Chotto Okashiinda ga. (be honest or the magic belt makes you cum, little sister)\\n', 'Onee-chan ga Kita (blonde shota and his black haired onee-san)\\n', 'Spring\\n', 'Akuma no Riddle (blue   assassin protects clumsy bee queen girl, the target of 11 other assassins)\\n', 'Black Bullet (Attack on Titan but modern and with power lolis)\\n', 'Bokura wa Minna Kawaisou (short haired guy and girl fall in love in same dorm)\\n', 'Gokukoku no Brynhildr (edgy romance show with memory guy protag)\\n', 'One Week Friends (girl forgets you after one week, you’re boring)\\n', 'Kanojo ga Flag wo Oraretara (kinda depressive guy has the ability to see and trigger flags, especially girls)\\n', 'Mahouka Koukou no Rettousei (magic school with op brother and sister)\\n', 'Mekakucity Actors (y’know vocaloid? Yeah that got an anime)\\n', 'No Game No Life (seriously, bro and sis rule the world of games)\\n', 'Nanana no Maizoukin (some girl hid some treasures and is now a ghost in your apartment, find her treasures)\\n', 'Summer\\n', 'Akame ga Kill (everyone dies)\\n', 'Aldnoah Zero (Emotional break down and emotionless guy)\\n', 'Hanamonogatari\\n', 'Jinsei\\n', 'Sword art Online 2\\n', 'Zankyou no Terror\\n', 'Tokyo Ghoul\\n', 'Rail Wars\\n', 'Seirei Tsukai no Blade Dance (magical sword school anime)\\n', 'Fall\\n', 'Amagami Brilliant Park (beautiful animations but no romance… sigh)\\n', 'Grisaia no Kajitsu (cool guy and some mentally broken girls he has to fix)\\n', 'Parasyte (My right hand is an alien)\\n', 'Shigatsu wa Kimi no Uso (barely remember but sad as f_ck)\\n', 'Tsukimonogatari\\n']\n",
      "Anime I watched in 2015\n",
      ": ['Winter\\n', 'Assassination Classroom (yellow tentacle teacher wants to die)\\n', 'Absolute Duo (romance, double sword, and shield)\\n', 'Death Parade (die with style)\\n', 'Isuca (Blonde girl with arrows)\\n', 'Saenai Heroine no Sodatekata (glasses guy wants to create a dating sim but everyone has a crush on him)\\n', 'Tokyo Ghoul √A (Second season? best friend dies)\\n', 'Spring\\n', 'Danmachi (invention of Hestia and her ribbons)\\n', 'Fate Stay Night Unlimited Blade Works 2 (Yeah)\\n', 'Grisaria no Rakuen (second or third season of Grisaria)\\n', 'Nagato Yuki-chan no Shoushitsu (y’know Haruhi Suzumiya? That but different)\\n', 'Nisekoi: (Second season)\\n', 'Plastic Memoires (robo-romance)\\n', 'Owari no Seraph (gay vampire  shounen)\\n', 'Yamada-kun to 7-nin no Majo (Delinquent and seven romance witches)\\n', 'Oregairu Zoku (Second season but with different art style)\\n', 'I can’t understand what my Husband is saying 2 (ignore the pregnancy cliffhanger)\\n', \"Kyoukai no Kanata Movie: I'LL BE HERE - Mirai-hen (movie, second part)\\n\", 'Summer \\n', 'Charlotte (abilities)\\n', 'God Eater (kill those wannabe gods with giant swords)\\n', 'Himouto Umaru-chan (lazy ass model student sister)\\n', 'Jitsu wa Watashi wa (Green haired vampire but also interesting art style, romance)\\n', 'Kuusen Madoushi Kouhosei no Kyoukan (some magical school anime with three problem girls)\\n', 'Monster Musume (monster girls, yay)\\n', 'Overlord (op skeleton ruler, yay)\\n', 'Fall\\n', 'One Punch Man\\n', 'Radukai Kishi (weakest becomes strongest)\\n', 'Sakurako-san no Ashimoto ni wa Shitai ga Umatteiru (I wanted romance but I get skull fetish)\\n', 'Taimadou Gakuen 35 Shiken Shoutai (sci-fi, witch hunt thingy)\\n', 'Owarimonogatari\\n', 'Shoumin Sample (normal dude in rich girl school)\\n', 'Gakusen Toshi Asterisk (magical school sword anime)\\n']\n",
      "Anime I watched in 2016\n",
      ": ['Winter\\n', 'Ajin (Death follows revival and black monsters)\\n', 'Assassination Classroom 2  (The finale)\\n', 'Ao no Kanata Four Rythm (Flying shoes and romance, a little)\\n', 'Erased (time travel and childhood)\\n', 'Dagashi Kashi (sweets)\\n', 'Hai to Gensou no Grimigar (isekai but without memories)\\n', 'Konosuba (Isekai but realistic comedic)\\n', 'Musaigen no Phantom World  (world with phantoms aka monsters)\\n', 'Saiijaku Muhai no Bahamut (white haired shota gets girls with his mech)\\n', 'Shoujo-Tachi wa Kouya wo Mezasu (girl wants to make a visual novel)\\n', 'Phantasy Star Online 2 (btw, it’s canon to the game)\\n', 'Spring\\n', 'My Hero Academia (Shounen but cool)\\n', 'Kiznaiver (Pain sharing)\\n', 'Netoge no Yome wa Onnanoko ja Nai to Omotta? (lonely mmo player’s dream of love)\\n', 'Sakamoto desu ga? (being cool but also cooler, hald drop)\\n', 'Tanaka-kun wa Itsumo Kedaruge (lazy)\\n', 'Nijiro Days (four boys and their lives)\\n', 'Re;Zero (Isekai, death and respawn)\\n', 'Summer\\n', 'Re;Life (back to the old days in high school, with 29)\\n', 'Rewrite (rewrite the anime plot because the vn was better)\\n', 'Mob Psycho 100 (one punch man but as a teenager)\\n', 'Masou Gakuen HxH (enhancing girls with fondling)\\n', 'Amaama to Inazuma (Usagi drop but with food)\\n', 'Orange (time travel in order to save present romance drama)\\n', 'Fall\\n', '3 Gatsu no Lion (Shogi but with Seinen)\\n', 'Ajin 2 \\n', 'Flip Flappers (Everything goes crazy)\\n', 'Kubikiri Cycle: The Blue Savant and the Nonsense User (That shaft anime which took months\\n']\n",
      "Anime I watched in 2017\n",
      ": ['Winter \\n', 'Akiba’s Trip - The Animation (Stripping and fighting)\\n', 'Chaos; Child (Chaos Head 2.0)\\n', 'Demi-chan wa Kataritai (Monster Musume but illegal)\\n', 'Hand Shakers (Shake my hand and give me lovely powers)\\n', 'Dragon Maid (Well, yeah… female protagonist though)\\n', 'Kuzu no Honkai (Why the f_ck is everyone cheating on the other?)\\n', 'KonoSuba 2 (Explosion!! and Lalatina!)\\n', 'Masamune-kun no Revenge (fat guy is now thing and tries to make bully fall for him)\\n', 'Rewrite 2 (The better adaptation, Moon and Terra)\\n', '3-Gatsu no Lion (Shogi but also Seinen)\\n', 'Kizumonogatari III (Vampire killing)\\n', 'SAO Ordinal Scale (Oh now he does irl sports?)\\n', 'Seiren (I think it was something like Amagami SS with different girls)\\n', 'Spring\\n', 'Alice to Zoruoko (Alice in Wonderland but with old dude as well)\\n', 'Boku no Hero Academia 2 (Tournament Arc iirc)\\n', 'Busou Shoujo Machiavalinisim (Every girl wants to kill him but he beats them first)\\n', 'Eromanga-Sensei (A genuinely good anime, kek)\\n', 'Re; Creators (John, they broke the fourth wall, f_ck!)\\n', 'The King’s Avatar (Chinese SAO but better)\\n', 'Sagrada Reset (Charlotte but better)\\n', 'Akashic Records of Bastard Magic Instructor (Had a terrible ending but and the school uniform is a joke)\\n', 'WorldEnd: What do you do at the end of the world? Are you busy? Will you save us? (op mc and more op fairies)\\n', 'Grimoire of Zero (I thought this was Re;Zero but it has a white tiger and a girl)\\n', 'Mayoiga (A series about a bus trip and a cursed village, actually, the bus trip was a group suicide, right?)\\n', 'Summer\\n', 'Hajimete no Gal (Gals aren’t that bad… apparently the ENG dub was better)\\n', 'Gamers! (Misunderstanding the anime)\\n', 'Isekai wa Smartphone (He has is Smartphone in Another world)\\n', 'Kakegurui (Gambling and Orgasm)\\n', 'Koi to Uso (I love you but have to marry her. Let’s take both!)\\n', 'Made in Abyss (Loli, robot guy and edgy plot)\\n', 'Tenshi no 3P (Loli and music)\\n', 'Classroom of the Elite (Orgegairu but cooler?)\\n', 'Fall\\n', 'A Sister is All You Need (That f_cking cliffhanger ending! The protag has the fetish btw)\\n', 'Himouto Umaru-chan R (Yay, a sequl of hamster girl)\\n', 'Ancient Magus Bride (Beautiful anime which redefined the fantasy genre of anime, back to school I guess)\\n', 'Recovery of an MMO-Junkie (MMOs are so nice)\\n', 'Ousama Game: The Animation (edgy King’s game)\\n', 'Girls Last Tour (Apolcalyptic world and two girls with tank and gun)\\n', 'Kino no Tabi: Beautiful World (Every episode is about a new city and some kind of new morale)\\n', 'Just Because! (yay, some sweet romance after a guy entered the town)\\n']\n",
      "Anime I watched in 2018\n",
      ": ['Winter\\n', 'Darling in the Franxx (Hehe… good anime until the alines? Evangelion clone I guess?)\\n', 'Death March to the Parallel World Rhapsody (Game dev in another world and being a boss there)\\n', 'Overlord II (Lizards?)\\n', 'Ryuuou no Oshigoto! (lolis and Shogi)\\n', 'Violet Evergarden (Nice animations and the VA from 2B)\\n', 'Spring\\n', '3D Kanojo (Yeah! I read the manga. So sweet)\\n', 'Boku no Hero Academia 3 (Become better arc)\\n', 'Steins Gate 0 (Depressive Okabe)\\n', 'Shiyan Pin Jiating: Frankenstein Family (Family with demi-humans and a genius)\\n', 'Summer\\n', 'How Not to Summon a Demon Lord (Perfect anime, duo harem)\\n', 'Overlord III (Become the over f_cking lord!)\\n', 'Fall\\n', 'Conception (making girls from another world pregnant)\\n', 'Goblin Slayer (No one has names)\\n', 'My Sister My Writer (Little sister anime with bad animation)\\n', 'Rascal Does Not Dream of Bunny Girl Senpai (not little sister anime with better little sister, and romance/drama)\\n', 'Sword Art Online: Alicization (Fancy SAO, they used Ordinal Scale animation)\\n', 'That Time I Got Reincarnated as a Slime (Little blue ball being OP)\\n']\n",
      "Anime I watched in 2019\n",
      ": ['Winter\\n', 'Shield Hero\\n', 'Spring\\n', 'One Punch Man S2\\n', 'Kenja no Mago (Dropped around the ending I guess?)\\n', 'Summer\\n', 'Danmachi S2\\n', 'Arifureta S1\\n', 'Mom Isekai \\n', 'Fall\\n', 'Beastars\\n', 'SAO Alicization, War of Underworld\\n', 'Azur Lane\\n', 'Phantasy Star Online 2: Episode Oracle\\n']\n",
      "Anime I watched in 2020\n",
      ": ['Winter\\n', 'Bofuri (Female Shield Hero, VRMMO)\\n', 'Spring\\n', '…\\n', 'Summer\\n', 'ReZero S2\\n', 'Misfits of Demon Academy S2 (Anos Voldiguard = Gige Chad)\\n', 'Fall\\n', 'Tonikaku Kawaii S2\\n', 'Danmachi S3\\n']\n",
      "Anime I watched in 2021\n",
      ": ['Winter\\n', 'Horimiya\\n', 'Mushoku Tensei\\n', 'ReZero S2, Part 2\\n', 'Spring\\n', '…\\n', 'Summer\\n', 'Bokutachi no Remake\\n', 'Shinigami Bocchan to Kuro Maid\\n', 'Fall\\n', 'Mushoku Tensei S1, Part 2\\n', 'Platinum End\\n', 'Shin no Nakama… (Red and Blonde Girl Happily Ever After) S1\\n']\n",
      "Anime I watched in 2022\n",
      ": ['Winter\\n', '…\\n', 'Spring \\n', 'Shield Hero S2\\n', 'My Girlfriend is not just Cute\\n', 'Otomege Sekai wa Mob\\n', 'Shijou Saikyou no Daimaou,\\n', 'Yuusha, Yamemasu\\n', 'Summer\\n', 'Overlord S4\\n', 'Black Summoner\\n', 'Fall\\n', 'Eminence in the Shadow S1\\n', 'Bocchi the Rock\\n', 'Arknights S1\\n']\n",
      "Anime I watched in 2023\n",
      ": ['Winter\\n', 'NieR:Automata Ver 1.1a\\n', 'Ice Dude and His Cool Female Colleague\\n', 'Kubo-san won’t let me be a Mob\\n', 'Isekai Nonbiri Nouka\\n', 'I was kicked out of the demon lord’s army, 30 year old guy\\n', 'Spring\\n', 'Mashle\\n', 'Boku no Kokoro no Yabai Yatsu\\n', 'I got a cheat Skill in Another World and Became Unrivalled in The Real World\\n', 'Summer\\n', 'Mushoku Tensei 2 (ED Arc)\\n', 'My Happy Marriage\\n', 'Jitsu was Ore, Saikyou Deshita?\\n', 'Fall\\n', 'Eminence of Shadow S2\\n', 'Goblin Slayer S2\\n', 'Shield Hero S3\\n', 'Arknights S2\\n']\n",
      "Anime I watched in 2024\n",
      ": ['Winter\\n', 'The Dangers of My Heart S2\\n', 'Shin no nakama … S2 (Ruti Arc)\\n']\n"
     ]
    }
   ],
   "source": [
    "print(lines[427:430])\n",
    "for key, value in anime_dic.items():\n",
    "    print(f\"{key}: {value}\")"
   ]
  },
  {
   "cell_type": "code",
   "execution_count": 85,
   "metadata": {},
   "outputs": [],
   "source": [
    "import json\n",
    "with open(\"DataToDictOutputs/anime_data.json\", 'w') as f:\n",
    "    json.dump(anime_dic, f, indent=3)\n"
   ]
  }
 ],
 "metadata": {
  "kernelspec": {
   "display_name": "Python 3",
   "language": "python",
   "name": "python3"
  },
  "language_info": {
   "codemirror_mode": {
    "name": "ipython",
    "version": 3
   },
   "file_extension": ".py",
   "mimetype": "text/x-python",
   "name": "python",
   "nbconvert_exporter": "python",
   "pygments_lexer": "ipython3",
   "version": "3.11.1"
  }
 },
 "nbformat": 4,
 "nbformat_minor": 2
}
